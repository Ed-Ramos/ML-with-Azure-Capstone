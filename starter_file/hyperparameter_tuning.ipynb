{
  "cells": [
    {
      "cell_type": "markdown",
      "source": [
        "# Hyperparameter Tuning using HyperDrive\n",
        "\n",
        "TODO: Import Dependencies. In the cell below, import all the dependencies that you will need to complete the project."
      ],
      "metadata": {}
    },
    {
      "cell_type": "code",
      "source": [
        "from azureml.core import Workspace, Experiment\r\n",
        "from azureml.core.compute import ComputeTarget, AmlCompute\r\n",
        "from azureml.core.compute_target import ComputeTargetException\r\n",
        "from azureml.widgets import RunDetails\r\n",
        "from azureml.train.sklearn import SKLearn\r\n",
        "from azureml.train.hyperdrive.run import PrimaryMetricGoal\r\n",
        "from azureml.train.hyperdrive.policy import BanditPolicy\r\n",
        "from azureml.train.hyperdrive.sampling import RandomParameterSampling\r\n",
        "from azureml.train.hyperdrive.runconfig import HyperDriveConfig\r\n",
        "from azureml.train.hyperdrive.parameter_expressions import choice, uniform\r\n",
        "from azureml.core import Environment, ScriptRunConfig\r\n",
        "import os\r\n",
        "import joblib\r\n",
        "\r\n"
      ],
      "outputs": [],
      "execution_count": 7,
      "metadata": {
        "gather": {
          "logged": 1679759960826
        }
      }
    },
    {
      "cell_type": "markdown",
      "source": [
        "## Dataset\n",
        "\n",
        "TODO: Get data. In the cell below, write code to access the data you will be using in this project. Remember that the dataset needs to be external."
      ],
      "metadata": {}
    },
    {
      "cell_type": "code",
      "source": [
        "ws = Workspace.from_config()\n",
        "experiment_name = 'capstone-project'\n",
        "\n",
        "experiment=Experiment(ws, experiment_name)\n",
        "\n",
        "print('Workspace name: ' + ws.name, \n",
        "      'Azure region: ' + ws.location, \n",
        "      'Subscription id: ' + ws.subscription_id, \n",
        "      'Resource group: ' + ws.resource_group, sep = '\\n')\n",
        "\n",
        "run = experiment.start_logging()"
      ],
      "outputs": [
        {
          "output_type": "stream",
          "name": "stdout",
          "text": "Workspace name: udacitymlworkspace\nAzure region: eastus\nSubscription id: dce3a2e3-2f87-4a43-9fd7-d3a4bdeb704f\nResource group: udacityml\n"
        }
      ],
      "execution_count": 8,
      "metadata": {
        "gather": {
          "logged": 1679759965459
        },
        "jupyter": {
          "outputs_hidden": false,
          "source_hidden": false
        },
        "nteract": {
          "transient": {
            "deleting": false
          }
        }
      }
    },
    {
      "cell_type": "code",
      "source": [
        "cluster_name = \"udacityMLCluster\"\r\n",
        "\r\n",
        "# Create compute cluster\r\n",
        "\r\n",
        "#verify that cluster does not exist\r\n",
        "try:\r\n",
        "    compute_target = ComputeTarget(workspace=ws, name=cluster_name)\r\n",
        "    print(\"Found existing cluster, use it.\")\r\n",
        "except ComputeTargetException:\r\n",
        "    compute_name = os.environ.get('AML_COMPUTE_CLUSTER_NAME', cluster_name)\r\n",
        "    compute_min_nodes = os.environ.get('AML_COMPUTE_CLUSTER_MIN_NODES', 0)\r\n",
        "    compute_max_nodes = os.environ.get('AML_COMPUTE_CLUSTER_MIN_NODES', 4)\r\n",
        "\r\n",
        "    vm_size = os.environ.get('AML_COMPUTE_CLUSTER_SKU', 'Standard_D2_V2')\r\n",
        "    provisioning_config = AmlCompute.provisioning_configuration(vm_size=vm_size, min_nodes= compute_min_nodes, max_nodes=compute_max_nodes)\r\n",
        "\r\n",
        "    compute_target = ComputeTarget.create(ws, compute_name, provisioning_config)\r\n",
        "\r\n",
        "compute_target.wait_for_completion(show_output=True)\r\n"
      ],
      "outputs": [
        {
          "output_type": "stream",
          "name": "stdout",
          "text": "Found existing cluster, use it.\nSucceeded\nAmlCompute wait for completion finished\n\nMinimum number of nodes requested have been provisioned\n"
        }
      ],
      "execution_count": 9,
      "metadata": {
        "jupyter": {
          "source_hidden": false,
          "outputs_hidden": false
        },
        "nteract": {
          "transient": {
            "deleting": false
          }
        },
        "gather": {
          "logged": 1679759969388
        }
      }
    },
    {
      "cell_type": "markdown",
      "source": [
        "## Hyperdrive Configuration\n",
        "\n",
        "TODO: Explain the model you are using and the reason for chosing the different hyperparameters, termination policy and config settings."
      ],
      "metadata": {
        "collapsed": true,
        "gather": {
          "logged": 1598531923519
        },
        "jupyter": {
          "outputs_hidden": false,
          "source_hidden": false
        },
        "nteract": {
          "transient": {
            "deleting": false
          }
        }
      }
    },
    {
      "cell_type": "code",
      "source": [
        "# TODO: Create an early termination policy. This is not required if you are using Bayesian sampling.\n",
        "early_termination_policy = BanditPolicy(slack_factor=0.1, evaluation_interval=2, delay_evaluation=5)\n",
        "\n",
        "#TODO: Create the different params that you will be using during training\n",
        "param_sampling = RandomParameterSampling( {\n",
        "        \"C\": uniform(0.5, 1.0),\n",
        "        \"max_iter\": choice([5,100])\n",
        "    }\n",
        ")\n",
        "\n",
        "if \"training2\" not in os.listdir():\n",
        "    os.mkdir(\"./training2\")\n",
        "\n",
        "\n",
        "# Setup environment for your training run\n",
        "sklearn_env = Environment.from_conda_specification(name='sklearn-env', file_path='conda_dependencies.yml')\n",
        "\n",
        "# Create a ScriptRunConfig Object to specify the configuration details of your training job\n",
        " \n",
        "src = ScriptRunConfig(source_directory='./capstone',\n",
        "                            script='train.py',\n",
        "                            compute_target=compute_target,\n",
        "                            environment=sklearn_env)\n",
        "\n",
        "# Create a HyperDriveConfig using the src object, hyperparameter sampler, and policy.\n",
        "hyperdrive_config = HyperDriveConfig(run_config=src,\n",
        "                                     hyperparameter_sampling = param_sampling,\n",
        "                                     policy=early_termination_policy,\n",
        "                                     primary_metric_name=\"Accuracy\",\n",
        "                                     primary_metric_goal=PrimaryMetricGoal.MAXIMIZE,\n",
        "                                     max_total_runs=4,\n",
        "                                     max_concurrent_runs=4)"
      ],
      "outputs": [],
      "execution_count": 10,
      "metadata": {
        "gather": {
          "logged": 1679759976712
        },
        "jupyter": {
          "outputs_hidden": false,
          "source_hidden": false
        },
        "nteract": {
          "transient": {
            "deleting": false
          }
        }
      }
    },
    {
      "cell_type": "code",
      "source": [
        "#TODO: Submit your experiment\r\n",
        "# Submit your hyperdrive run to the experiment and show run details with the widget.\r\n",
        "hyperdrive_run = experiment.submit(config=hyperdrive_config)\r\n",
        "hyperdrive_run.get_status()\r\n",
        "#RunDetails(hyperdrive_run).show()\r\n",
        "hyperdrive_run.wait_for_completion(show_output=True)"
      ],
      "outputs": [
        {
          "output_type": "stream",
          "name": "stdout",
          "text": "RunId: HD_917cc7de-2599-48c1-8b70-e5ee94633f35\nWeb View: https://ml.azure.com/runs/HD_917cc7de-2599-48c1-8b70-e5ee94633f35?wsid=/subscriptions/dce3a2e3-2f87-4a43-9fd7-d3a4bdeb704f/resourcegroups/udacityml/workspaces/udacitymlworkspace&tid=8c9a0d04-e250-4aeb-85f4-1b71f173e263\n\nStreaming azureml-logs/hyperdrive.txt\n=====================================\n\n[2023-03-25T16:00:10.630910][GENERATOR][INFO]Trying to sample '4' jobs from the hyperparameter space\n[2023-03-25T16:00:11.0991641Z][SCHEDULER][INFO]Scheduling job, id='HD_917cc7de-2599-48c1-8b70-e5ee94633f35_0' \n[2023-03-25T16:00:11.2545364Z][SCHEDULER][INFO]Scheduling job, id='HD_917cc7de-2599-48c1-8b70-e5ee94633f35_1' \n[2023-03-25T16:00:11.356377][GENERATOR][INFO]Successfully sampled '4' jobs, they will soon be submitted to the execution target.\n[2023-03-25T16:00:11.3635869Z][SCHEDULER][INFO]Successfully scheduled a job. Id='HD_917cc7de-2599-48c1-8b70-e5ee94633f35_0' \n[2023-03-25T16:00:11.4826154Z][SCHEDULER][INFO]Successfully scheduled a job. Id='HD_917cc7de-2599-48c1-8b70-e5ee94633f35_1' \n[2023-03-25T16:00:11.4707419Z][SCHEDULER][INFO]Scheduling job, id='HD_917cc7de-2599-48c1-8b70-e5ee94633f35_2' \n[2023-03-25T16:00:11.4719518Z][SCHEDULER][INFO]Scheduling job, id='HD_917cc7de-2599-48c1-8b70-e5ee94633f35_3' \n[2023-03-25T16:00:11.7323670Z][SCHEDULER][INFO]Successfully scheduled a job. Id='HD_917cc7de-2599-48c1-8b70-e5ee94633f35_2' \n[2023-03-25T16:00:11.7040910Z][SCHEDULER][INFO]Successfully scheduled a job. Id='HD_917cc7de-2599-48c1-8b70-e5ee94633f35_3' \n[2023-03-25T16:00:41.251623][GENERATOR][INFO]Max number of jobs '4' reached for experiment.\n[2023-03-25T16:00:41.559353][GENERATOR][INFO]All jobs generated.\n[2023-03-25T16:06:49.478163][CONTROLLER][WARNING]User errors were found in at least one of the child runs.\n[2023-03-25T16:06:49.478117][CONTROLLER][INFO]Experiment has been marked for failure.\n[2023-03-25T16:06:49.973192][CONTROLLER][INFO]Experiment was 'ExperimentStatus.RUNNING', is 'ExperimentStatus.FAILED'.\n\nExecution Summary\n=================\nRunId: HD_917cc7de-2599-48c1-8b70-e5ee94633f35\nWeb View: https://ml.azure.com/runs/HD_917cc7de-2599-48c1-8b70-e5ee94633f35?wsid=/subscriptions/dce3a2e3-2f87-4a43-9fd7-d3a4bdeb704f/resourcegroups/udacityml/workspaces/udacitymlworkspace&tid=8c9a0d04-e250-4aeb-85f4-1b71f173e263\n\nWarnings:\nExecution failed. User process '/azureml-envs/azureml_7eec2c8971b9410f92147a7e257297e7/bin/python' exited with status code 1. Please check log file 'user_logs/std_log.txt' for error details. Error: Traceback (most recent call last):\n  File \"<string>\", lin\n\n"
        },
        {
          "output_type": "error",
          "ename": "ActivityFailedException",
          "evalue": "ActivityFailedException:\n\tMessage: Activity Failed:\n{\n    \"error\": {\n        \"code\": \"UserError\",\n        \"message\": \"Execution failed. User process '/azureml-envs/azureml_7eec2c8971b9410f92147a7e257297e7/bin/python' exited with status code 1. Please check log file 'user_logs/std_log.txt' for error details. Error: Traceback (most recent call last):\\n  File \\\"<string>\\\", line 197, in <module>\\n  File \\\"<string>\\\", line 193, in main\\n  File \\\"/azureml-envs/azureml_7eec2c8971b9410f92147a7e257297e7/lib/python3.6/runpy.py\\\", line 261, in run_path\\n    code, fname = _get_code_from_file(run_name, path_name)\\n  File \\\"/azureml-envs/azureml_7eec2c8971b9410f92147a7e257297e7/lib/python3.6/runpy.py\\\", line 231, in _get_code_from_file\\n    with open(fname, \\\"rb\\\") as f:\\nFileNotFoundError: [Errno 2] No such file or directory: 'train.py'\\n\\n\",\n        \"messageParameters\": {},\n        \"details\": []\n    },\n    \"time\": \"0001-01-01T00:00:00.000Z\"\n}\n\tInnerException None\n\tErrorResponse \n{\n    \"error\": {\n        \"message\": \"Activity Failed:\\n{\\n    \\\"error\\\": {\\n        \\\"code\\\": \\\"UserError\\\",\\n        \\\"message\\\": \\\"Execution failed. User process '/azureml-envs/azureml_7eec2c8971b9410f92147a7e257297e7/bin/python' exited with status code 1. Please check log file 'user_logs/std_log.txt' for error details. Error: Traceback (most recent call last):\\\\n  File \\\\\\\"<string>\\\\\\\", line 197, in <module>\\\\n  File \\\\\\\"<string>\\\\\\\", line 193, in main\\\\n  File \\\\\\\"/azureml-envs/azureml_7eec2c8971b9410f92147a7e257297e7/lib/python3.6/runpy.py\\\\\\\", line 261, in run_path\\\\n    code, fname = _get_code_from_file(run_name, path_name)\\\\n  File \\\\\\\"/azureml-envs/azureml_7eec2c8971b9410f92147a7e257297e7/lib/python3.6/runpy.py\\\\\\\", line 231, in _get_code_from_file\\\\n    with open(fname, \\\\\\\"rb\\\\\\\") as f:\\\\nFileNotFoundError: [Errno 2] No such file or directory: 'train.py'\\\\n\\\\n\\\",\\n        \\\"messageParameters\\\": {},\\n        \\\"details\\\": []\\n    },\\n    \\\"time\\\": \\\"0001-01-01T00:00:00.000Z\\\"\\n}\"\n    }\n}",
          "traceback": [
            "\u001b[0;31m---------------------------------------------------------------------------\u001b[0m",
            "\u001b[0;31mActivityFailedException\u001b[0m                   Traceback (most recent call last)",
            "Cell \u001b[0;32mIn [11], line 6\u001b[0m\n\u001b[1;32m      4\u001b[0m hyperdrive_run\u001b[38;5;241m.\u001b[39mget_status()\n\u001b[1;32m      5\u001b[0m \u001b[38;5;66;03m#RunDetails(hyperdrive_run).show()\u001b[39;00m\n\u001b[0;32m----> 6\u001b[0m \u001b[43mhyperdrive_run\u001b[49m\u001b[38;5;241;43m.\u001b[39;49m\u001b[43mwait_for_completion\u001b[49m\u001b[43m(\u001b[49m\u001b[43mshow_output\u001b[49m\u001b[38;5;241;43m=\u001b[39;49m\u001b[38;5;28;43;01mTrue\u001b[39;49;00m\u001b[43m)\u001b[49m\n",
            "File \u001b[0;32m/anaconda/envs/azureml_py38/lib/python3.8/site-packages/azureml/core/run.py:843\u001b[0m, in \u001b[0;36mRun.wait_for_completion\u001b[0;34m(self, show_output, wait_post_processing, raise_on_error)\u001b[0m\n\u001b[1;32m    841\u001b[0m \u001b[38;5;28;01mif\u001b[39;00m show_output:\n\u001b[1;32m    842\u001b[0m     \u001b[38;5;28;01mtry\u001b[39;00m:\n\u001b[0;32m--> 843\u001b[0m         \u001b[38;5;28;43mself\u001b[39;49m\u001b[38;5;241;43m.\u001b[39;49m\u001b[43m_stream_run_output\u001b[49m\u001b[43m(\u001b[49m\n\u001b[1;32m    844\u001b[0m \u001b[43m            \u001b[49m\u001b[43mfile_handle\u001b[49m\u001b[38;5;241;43m=\u001b[39;49m\u001b[43msys\u001b[49m\u001b[38;5;241;43m.\u001b[39;49m\u001b[43mstdout\u001b[49m\u001b[43m,\u001b[49m\n\u001b[1;32m    845\u001b[0m \u001b[43m            \u001b[49m\u001b[43mwait_post_processing\u001b[49m\u001b[38;5;241;43m=\u001b[39;49m\u001b[43mwait_post_processing\u001b[49m\u001b[43m,\u001b[49m\n\u001b[1;32m    846\u001b[0m \u001b[43m            \u001b[49m\u001b[43mraise_on_error\u001b[49m\u001b[38;5;241;43m=\u001b[39;49m\u001b[43mraise_on_error\u001b[49m\u001b[43m)\u001b[49m\n\u001b[1;32m    847\u001b[0m         \u001b[38;5;28;01mreturn\u001b[39;00m \u001b[38;5;28mself\u001b[39m\u001b[38;5;241m.\u001b[39mget_details()\n\u001b[1;32m    848\u001b[0m     \u001b[38;5;28;01mexcept\u001b[39;00m \u001b[38;5;167;01mKeyboardInterrupt\u001b[39;00m:\n",
            "File \u001b[0;32m/anaconda/envs/azureml_py38/lib/python3.8/site-packages/azureml/core/run.py:1096\u001b[0m, in \u001b[0;36mRun._stream_run_output\u001b[0;34m(self, file_handle, wait_post_processing, raise_on_error)\u001b[0m\n\u001b[1;32m   1094\u001b[0m         file_handle\u001b[38;5;241m.\u001b[39mwrite(\u001b[38;5;124m\"\u001b[39m\u001b[38;5;130;01m\\n\u001b[39;00m\u001b[38;5;124m\"\u001b[39m)\n\u001b[1;32m   1095\u001b[0m     \u001b[38;5;28;01melse\u001b[39;00m:\n\u001b[0;32m-> 1096\u001b[0m         \u001b[38;5;28;01mraise\u001b[39;00m ActivityFailedException(error_details\u001b[38;5;241m=\u001b[39mjson\u001b[38;5;241m.\u001b[39mdumps(error, indent\u001b[38;5;241m=\u001b[39m\u001b[38;5;241m4\u001b[39m))\n\u001b[1;32m   1098\u001b[0m file_handle\u001b[38;5;241m.\u001b[39mwrite(\u001b[38;5;124m\"\u001b[39m\u001b[38;5;130;01m\\n\u001b[39;00m\u001b[38;5;124m\"\u001b[39m)\n\u001b[1;32m   1099\u001b[0m file_handle\u001b[38;5;241m.\u001b[39mflush()\n",
            "\u001b[0;31mActivityFailedException\u001b[0m: ActivityFailedException:\n\tMessage: Activity Failed:\n{\n    \"error\": {\n        \"code\": \"UserError\",\n        \"message\": \"Execution failed. User process '/azureml-envs/azureml_7eec2c8971b9410f92147a7e257297e7/bin/python' exited with status code 1. Please check log file 'user_logs/std_log.txt' for error details. Error: Traceback (most recent call last):\\n  File \\\"<string>\\\", line 197, in <module>\\n  File \\\"<string>\\\", line 193, in main\\n  File \\\"/azureml-envs/azureml_7eec2c8971b9410f92147a7e257297e7/lib/python3.6/runpy.py\\\", line 261, in run_path\\n    code, fname = _get_code_from_file(run_name, path_name)\\n  File \\\"/azureml-envs/azureml_7eec2c8971b9410f92147a7e257297e7/lib/python3.6/runpy.py\\\", line 231, in _get_code_from_file\\n    with open(fname, \\\"rb\\\") as f:\\nFileNotFoundError: [Errno 2] No such file or directory: 'train.py'\\n\\n\",\n        \"messageParameters\": {},\n        \"details\": []\n    },\n    \"time\": \"0001-01-01T00:00:00.000Z\"\n}\n\tInnerException None\n\tErrorResponse \n{\n    \"error\": {\n        \"message\": \"Activity Failed:\\n{\\n    \\\"error\\\": {\\n        \\\"code\\\": \\\"UserError\\\",\\n        \\\"message\\\": \\\"Execution failed. User process '/azureml-envs/azureml_7eec2c8971b9410f92147a7e257297e7/bin/python' exited with status code 1. Please check log file 'user_logs/std_log.txt' for error details. Error: Traceback (most recent call last):\\\\n  File \\\\\\\"<string>\\\\\\\", line 197, in <module>\\\\n  File \\\\\\\"<string>\\\\\\\", line 193, in main\\\\n  File \\\\\\\"/azureml-envs/azureml_7eec2c8971b9410f92147a7e257297e7/lib/python3.6/runpy.py\\\\\\\", line 261, in run_path\\\\n    code, fname = _get_code_from_file(run_name, path_name)\\\\n  File \\\\\\\"/azureml-envs/azureml_7eec2c8971b9410f92147a7e257297e7/lib/python3.6/runpy.py\\\\\\\", line 231, in _get_code_from_file\\\\n    with open(fname, \\\\\\\"rb\\\\\\\") as f:\\\\nFileNotFoundError: [Errno 2] No such file or directory: 'train.py'\\\\n\\\\n\\\",\\n        \\\"messageParameters\\\": {},\\n        \\\"details\\\": []\\n    },\\n    \\\"time\\\": \\\"0001-01-01T00:00:00.000Z\\\"\\n}\"\n    }\n}"
          ]
        }
      ],
      "execution_count": 11,
      "metadata": {
        "gather": {
          "logged": 1679760453512
        },
        "jupyter": {
          "outputs_hidden": false,
          "source_hidden": false
        },
        "nteract": {
          "transient": {
            "deleting": false
          }
        }
      }
    },
    {
      "cell_type": "markdown",
      "source": [
        "## Run Details\n",
        "\n",
        "OPTIONAL: Write about the different models trained and their performance. Why do you think some models did better than others?\n",
        "\n",
        "TODO: In the cell below, use the `RunDetails` widget to show the different experiments."
      ],
      "metadata": {
        "collapsed": true,
        "gather": {
          "logged": 1598544898497
        },
        "jupyter": {
          "outputs_hidden": false,
          "source_hidden": false
        },
        "nteract": {
          "transient": {
            "deleting": false
          }
        }
      }
    },
    {
      "cell_type": "code",
      "source": [
        "RunDetails(hyperdrive_run).show()"
      ],
      "outputs": [],
      "execution_count": null,
      "metadata": {
        "gather": {
          "logged": 1598546648408
        },
        "jupyter": {
          "outputs_hidden": false,
          "source_hidden": false
        },
        "nteract": {
          "transient": {
            "deleting": false
          }
        }
      }
    },
    {
      "cell_type": "markdown",
      "source": [
        "## Best Model\n",
        "\n",
        "TODO: In the cell below, get the best model from the hyperdrive experiments and display all the properties of the model."
      ],
      "metadata": {}
    },
    {
      "cell_type": "code",
      "source": [
        "# Get your best run and save the model from that run.\r\n",
        "\r\n",
        "best_run = hyperdrive_run.get_best_run_by_primary_metric()\r\n",
        "print(best_run.get_metrics())\r\n",
        "print(best_run.get_file_names())"
      ],
      "outputs": [],
      "execution_count": null,
      "metadata": {
        "gather": {
          "logged": 1598546650307
        },
        "jupyter": {
          "outputs_hidden": false,
          "source_hidden": false
        },
        "nteract": {
          "transient": {
            "deleting": false
          }
        }
      }
    },
    {
      "cell_type": "code",
      "source": [
        "#TODO: Save the best model\r\n",
        "model = best_run.register_model(model_name='model_hyperdrive', model_path='outputs/model.joblib')\r\n",
        "\r\n",
        "best_run.download_file(best_run.get_file_names()[3], output_file_path='./outputs/')\r\n",
        "\r\n",
        "joblib.load('./outputs/model.joblib')"
      ],
      "outputs": [],
      "execution_count": null,
      "metadata": {
        "gather": {
          "logged": 1598546657829
        },
        "jupyter": {
          "outputs_hidden": false,
          "source_hidden": false
        },
        "nteract": {
          "transient": {
            "deleting": false
          }
        }
      }
    },
    {
      "cell_type": "markdown",
      "source": [
        "## Model Deployment\n",
        "\n",
        "Remember you have to deploy only one of the two models you trained but you still need to register both the models. Perform the steps in the rest of this notebook only if you wish to deploy this model.\n",
        "\n",
        "TODO: In the cell below, register the model, create an inference config and deploy the model as a web service."
      ],
      "metadata": {
        "collapsed": true,
        "jupyter": {
          "outputs_hidden": false,
          "source_hidden": false
        },
        "nteract": {
          "transient": {
            "deleting": false
          }
        }
      }
    },
    {
      "cell_type": "code",
      "source": [],
      "outputs": [],
      "execution_count": null,
      "metadata": {}
    },
    {
      "cell_type": "markdown",
      "source": [
        "TODO: In the cell below, send a request to the web service you deployed to test it."
      ],
      "metadata": {}
    },
    {
      "cell_type": "code",
      "source": [],
      "outputs": [],
      "execution_count": null,
      "metadata": {}
    },
    {
      "cell_type": "markdown",
      "source": [
        "TODO: In the cell below, print the logs of the web service and delete the service"
      ],
      "metadata": {}
    },
    {
      "cell_type": "code",
      "source": [],
      "outputs": [],
      "execution_count": null,
      "metadata": {}
    },
    {
      "cell_type": "markdown",
      "source": [
        "**Submission Checklist**\n",
        "- I have registered the model.\n",
        "- I have deployed the model with the best accuracy as a webservice.\n",
        "- I have tested the webservice by sending a request to the model endpoint.\n",
        "- I have deleted the webservice and shutdown all the computes that I have used.\n",
        "- I have taken a screenshot showing the model endpoint as active.\n",
        "- The project includes a file containing the environment details.\n",
        "\n"
      ],
      "metadata": {}
    },
    {
      "cell_type": "markdown",
      "source": [],
      "metadata": {}
    }
  ],
  "metadata": {
    "kernel_info": {
      "name": "python3"
    },
    "kernelspec": {
      "name": "python3",
      "language": "python",
      "display_name": "Python 3 (ipykernel)"
    },
    "language_info": {
      "name": "python",
      "version": "3.8.5",
      "mimetype": "text/x-python",
      "codemirror_mode": {
        "name": "ipython",
        "version": 3
      },
      "pygments_lexer": "ipython3",
      "nbconvert_exporter": "python",
      "file_extension": ".py"
    },
    "nteract": {
      "version": "nteract-front-end@1.0.0"
    },
    "microsoft": {
      "host": {
        "AzureML": {
          "notebookHasBeenCompleted": true
        }
      },
      "ms_spell_check": {
        "ms_spell_check_language": "en"
      }
    }
  },
  "nbformat": 4,
  "nbformat_minor": 2
}